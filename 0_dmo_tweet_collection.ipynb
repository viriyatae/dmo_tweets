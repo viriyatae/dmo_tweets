{
 "cells": [
  {
   "cell_type": "markdown",
   "id": "45d4fee8",
   "metadata": {},
   "source": [
    "# Modules"
   ]
  },
  {
   "cell_type": "code",
   "execution_count": null,
   "id": "e7478f06",
   "metadata": {},
   "outputs": [],
   "source": [
    "from tweepy import API\n",
    "from tweepy import OAuth1UserHandler\n",
    "from tweepy import Stream\n",
    "import tweepy\n",
    "import time\n",
    "import pyarrow\n",
    "import pandas as pd\n",
    "pd.set_option('display.max_rows', 500)"
   ]
  },
  {
   "cell_type": "markdown",
   "id": "08c29838",
   "metadata": {},
   "source": [
    "# 1. Twitter Auth and API"
   ]
  },
  {
   "cell_type": "markdown",
   "id": "c1d68a33",
   "metadata": {},
   "source": [
    "Keys are not shown"
   ]
  },
  {
   "cell_type": "markdown",
   "id": "31cfc034",
   "metadata": {},
   "source": [
    "# 2. Create blank lists in a dict"
   ]
  },
  {
   "cell_type": "code",
   "execution_count": null,
   "id": "8a6e84ef",
   "metadata": {},
   "outputs": [],
   "source": [
    "dmo_twitter = pd.read_csv('dmo_twitter.csv')"
   ]
  },
  {
   "cell_type": "code",
   "execution_count": null,
   "id": "d7d2bb88",
   "metadata": {},
   "outputs": [],
   "source": [
    "display(dmo_twitter)"
   ]
  },
  {
   "cell_type": "code",
   "execution_count": null,
   "id": "9a64501c",
   "metadata": {},
   "outputs": [],
   "source": [
    "dmo_twitter_filtered = dmo_twitter[dmo_twitter['twitter_handle'].notnull()]\n",
    "dmo_twitter_filtered = dmo_twitter_filtered[dmo_twitter_filtered['exclude'] != 'yes']\n",
    "dmo_twitter_filtered['country'] = dmo_twitter_filtered['country_name'].replace(\" \", \"_\",regex=True)\n",
    "dmo_twitter_filtered['country'] = dmo_twitter_filtered['country'].str.lower()\n",
    "dmo_twitter_filtered.reset_index()\n",
    "display(dmo_twitter_filtered)"
   ]
  },
  {
   "cell_type": "code",
   "execution_count": null,
   "id": "0111762b",
   "metadata": {
    "scrolled": true
   },
   "outputs": [],
   "source": [
    "dmo_dict = {key:[] for key in dmo_twitter_filtered['country']}\n",
    "display(dmo_dict)"
   ]
  },
  {
   "cell_type": "markdown",
   "id": "ce75850b",
   "metadata": {},
   "source": [
    "# 3. Loop collect tweets"
   ]
  },
  {
   "cell_type": "code",
   "execution_count": null,
   "id": "731a6456",
   "metadata": {},
   "outputs": [],
   "source": [
    "for key in without_keys(dmo_dict, completed_dmo):\n",
    "    twitter_handle = dmo_twitter_filtered.loc[dmo_twitter_filtered[\"country\"] == key].iloc[0]['twitter_handle']\n",
    "    print(twitter_handle)\n",
    "    query_words = [\"from:\",twitter_handle,\" -is:retweet -is:reply -is:quote lang:en\"] #Alternatively, -is:quote can be removed to collect all quotes here\n",
    "    query = \"\".join(query_words)\n",
    "    country_tweet = []\n",
    "    \n",
    "    for tweet in tweepy.Paginator(client.search_all_tweets,query = query, \n",
    "                                                       start_time = \"2017-01-01T00:00:00Z\", \n",
    "                                                       end_time = \"2022-09-30T23:59:59Z\", \n",
    "                                                       max_results=500,\n",
    "                                                       tweet_fields=[\"id\", \"author_id\",  \"created_at\", \"text\", \"source\", \"lang\", \"in_reply_to_user_id\", \"conversation_id\", \"public_metrics\", \"referenced_tweets\", \"reply_settings\"],\n",
    "                                                       user_fields=[\"name\", \"username\", \"location\", \"verified\", \"description\", \"created_at\"],\n",
    "                                                       place_fields=[\"full_name\", \"id\", \"country\", \"country_code\", \"geo\", \"name\", \"place_type\"]).flatten(limit = 100000):\n",
    "        tweet_page = tweet.data\n",
    "        country_tweet.append(tweet_page)\n",
    "        \n",
    "    country_df = pd.DataFrame.from_records(country_tweet)\n",
    "    country_df_metrics = pd.json_normalize(country_df['public_metrics'])\n",
    "    dmo_dict[key] = pd.concat([country_df.drop(columns = ['public_metrics']), country_df_metrics], axis =1)\n",
    "    dmo_dict[key]['country'] = key\n",
    "    "
   ]
  },
  {
   "cell_type": "markdown",
   "id": "b201e94a",
   "metadata": {},
   "source": [
    "# 4. Merge DF in Dict"
   ]
  },
  {
   "cell_type": "code",
   "execution_count": null,
   "id": "6f743742",
   "metadata": {},
   "outputs": [],
   "source": [
    "dmo_df = pd.concat(dmo_dict.values()) # Add your sub_df one by one\n",
    "\n",
    "print(dmo_df)"
   ]
  },
  {
   "cell_type": "markdown",
   "id": "5129ef21",
   "metadata": {},
   "source": [
    "# 5. Create blank lists in a dict (replies)"
   ]
  },
  {
   "cell_type": "code",
   "execution_count": null,
   "id": "faebba41",
   "metadata": {},
   "outputs": [],
   "source": [
    "reply_dict = {key:[] for key in dmo_twitter_filtered['country']}\n",
    "display(reply_dict)"
   ]
  },
  {
   "cell_type": "markdown",
   "id": "7f7bf948",
   "metadata": {},
   "source": [
    "# 6. Loop collect replies"
   ]
  },
  {
   "cell_type": "code",
   "execution_count": null,
   "id": "78a885dd",
   "metadata": {},
   "outputs": [],
   "source": [
    "for key in without_keys(dmo_dict, completed_dmo): #dmo_dict.keys(): \n",
    "    twitter_handle = dmo_twitter_filtered.loc[dmo_twitter_filtered[\"country\"] == key].iloc[0]['twitter_handle']\n",
    "    print(twitter_handle)\n",
    "    query_words = [\"from:\",twitter_handle,\" -is:retweet lang:en (is:reply OR is:quote)\"] #Alternatively, is:quote can be removed to exclude quotes\n",
    "    query = \"\".join(query_words)\n",
    "    country_reply = []\n",
    "    \n",
    "    for tweet in tweepy.Paginator(client.search_all_tweets,query = query, \n",
    "                                                       start_time = \"2017-01-01T00:00:00Z\", \n",
    "                                                       end_time = \"2022-09-30T23:59:59Z\", \n",
    "                                                       max_results=500,\n",
    "                                                       tweet_fields=[\"id\", \"author_id\",  \"created_at\", \"text\", \"source\", \"lang\", \"in_reply_to_user_id\", \"conversation_id\", \"public_metrics\", \"referenced_tweets\", \"reply_settings\"],\n",
    "                                                       user_fields=[\"name\", \"username\", \"location\", \"verified\", \"description\", \"created_at\"],\n",
    "                                                       place_fields=[\"full_name\", \"id\", \"country\", \"country_code\", \"geo\", \"name\", \"place_type\"]).flatten(limit = 100000):\n",
    "        tweet_page = tweet.data\n",
    "        country_reply.append(tweet_page)\n",
    "        \n",
    "    reply_df = pd.DataFrame.from_records(country_reply)\n",
    "    try:\n",
    "        reply_df_metrics = pd.json_normalize(reply_df['public_metrics'])\n",
    "        reply_dict[key] = pd.concat([reply_df.drop(columns = ['public_metrics']), reply_df_metrics], axis =1)\n",
    "        reply_dict[key]['country'] = key\n",
    "    except Exception:\n",
    "        pass\n",
    "    "
   ]
  },
  {
   "cell_type": "code",
   "execution_count": null,
   "id": "3e7c77dd",
   "metadata": {},
   "outputs": [],
   "source": [
    "dmo_replies_df = pd.concat(reply_dict.values()) # Add your sub_df one by one\n",
    "\n",
    "print(dmo_replies_df)"
   ]
  },
  {
   "cell_type": "markdown",
   "id": "6e8bc84f",
   "metadata": {},
   "source": [
    "# 7. Export to Feather"
   ]
  },
  {
   "cell_type": "code",
   "execution_count": null,
   "id": "acc8efd3",
   "metadata": {},
   "outputs": [],
   "source": [
    "dmo_df.reset_index().to_feather(\"dmo_tweets.feather\")"
   ]
  },
  {
   "cell_type": "code",
   "execution_count": null,
   "id": "86d2eaab",
   "metadata": {},
   "outputs": [],
   "source": [
    "dmo_replies_df.reset_index().to_feather(\"dmo_replies.feather\")"
   ]
  }
 ],
 "metadata": {
  "kernelspec": {
   "display_name": "Python 3 (ipykernel)",
   "language": "python",
   "name": "python3"
  },
  "language_info": {
   "codemirror_mode": {
    "name": "ipython",
    "version": 3
   },
   "file_extension": ".py",
   "mimetype": "text/x-python",
   "name": "python",
   "nbconvert_exporter": "python",
   "pygments_lexer": "ipython3",
   "version": "3.10.6"
  },
  "varInspector": {
   "cols": {
    "lenName": 16,
    "lenType": 16,
    "lenVar": 40
   },
   "kernels_config": {
    "python": {
     "delete_cmd_postfix": "",
     "delete_cmd_prefix": "del ",
     "library": "var_list.py",
     "varRefreshCmd": "print(var_dic_list())"
    },
    "r": {
     "delete_cmd_postfix": ") ",
     "delete_cmd_prefix": "rm(",
     "library": "var_list.r",
     "varRefreshCmd": "cat(var_dic_list()) "
    }
   },
   "oldHeight": 122.852,
   "position": {
    "height": "144.852px",
    "left": "910px",
    "right": "20px",
    "top": "120px",
    "width": "350px"
   },
   "types_to_exclude": [
    "module",
    "function",
    "builtin_function_or_method",
    "instance",
    "_Feature"
   ],
   "varInspector_section_display": "block",
   "window_display": false
  }
 },
 "nbformat": 4,
 "nbformat_minor": 5
}
